{
 "cells": [
  {
   "cell_type": "markdown",
   "metadata": {},
   "source": [
    "# Simple Trapezoid Fit Example\n",
    "\n",
    "This is basically the unit test modified for an interactive session in a notebook format, so you can play with the API.\n",
    "\n",
    "A development version of `exovetter` is required to be installed, along with all the required and optional dependencies. Refer to package documentation for more information."
   ]
  },
  {
   "cell_type": "code",
   "execution_count": null,
   "metadata": {},
   "outputs": [],
   "source": [
    "import matplotlib.pyplot as plt\n",
    "import numpy as np\n",
    "from astropy.utils.compat.context import nullcontext\n",
    "from astropy.utils.misc import NumpyRNGContext\n",
    "\n",
    "from exovetter.trapezoid_fit import TrapezoidFitParameters, TrapezoidOriginalEstimates, TrapezoidFit, phase_data\n",
    "\n",
    "%matplotlib inline"
   ]
  },
  {
   "cell_type": "markdown",
   "metadata": {},
   "source": [
    "Set the random seed for reproducibility. Set it to `None` if you want a truly random behavior."
   ]
  },
  {
   "cell_type": "code",
   "execution_count": null,
   "metadata": {},
   "outputs": [],
   "source": [
    "seed = 1234"
   ]
  },
  {
   "cell_type": "code",
   "execution_count": null,
   "metadata": {},
   "outputs": [],
   "source": [
    "if seed is None:\n",
    "    rand_ctx = nullcontext()\n",
    "else:\n",
    "    rand_ctx = NumpyRNGContext(seed)"
   ]
  },
  {
   "cell_type": "markdown",
   "metadata": {},
   "source": [
    "Adjust the values here according to your science case. Please be mindful of the units."
   ]
  },
  {
   "cell_type": "code",
   "execution_count": null,
   "metadata": {},
   "outputs": [],
   "source": [
    "data_span = 80.0  # in Days\n",
    "exposure_length = 1.0 / 48.0  # in Days, 48 cadences per day\n",
    "signal_depth = 300.0  # signal depth in ppm\n",
    "signal_duration = 5.0 / 24.0  # in Days\n",
    "signal_period = 10.4203  # in Days\n",
    "signal_epoch = 5.1  # in Days\n",
    "noise_level = 40.0  # noise per observation in ppm\n",
    "samplen = 15\n",
    "fitregion = 4.0"
   ]
  },
  {
   "cell_type": "markdown",
   "metadata": {},
   "source": [
    "These are computed parameters based on your inputs above."
   ]
  },
  {
   "cell_type": "code",
   "execution_count": null,
   "metadata": {},
   "outputs": [],
   "source": [
    "n_data = int(data_span / exposure_length)\n",
    "signal_duration_hours = signal_duration * 24.0\n",
    "\n",
    "time_series = np.linspace(0, int(data_span), n_data)\n",
    "\n",
    "with rand_ctx:\n",
    "    data_series = 1.0 + np.random.randn(n_data) / 1e6 * noise_level\n",
    "\n",
    "error_series = np.full_like(data_series, noise_level / 1e6)"
   ]
  },
  {
   "cell_type": "markdown",
   "metadata": {},
   "source": [
    "Pass the parameters into classes that hold fit parameters and original estimates, respectively."
   ]
  },
  {
   "cell_type": "code",
   "execution_count": null,
   "metadata": {},
   "outputs": [],
   "source": [
    "trp_parm = TrapezoidFitParameters(exposure_length, samplen=samplen, fitregion=fitregion)\n",
    "trp_origests = TrapezoidOriginalEstimates(\n",
    "    period=signal_period, epoch=signal_epoch,\n",
    "    duration=signal_duration_hours, depth=signal_depth)"
   ]
  },
  {
   "cell_type": "markdown",
   "metadata": {},
   "source": [
    "Instantiate the class to do the trapezoid fitting."
   ]
  },
  {
   "cell_type": "code",
   "execution_count": null,
   "metadata": {},
   "outputs": [],
   "source": [
    "ioblk = TrapezoidFit(\n",
    "    time_series, data_series, error_series,\n",
    "    trp_parameters=trp_parm, trp_originalestimates=trp_origests,\n",
    "    t_ratio=0.1)"
   ]
  },
  {
   "cell_type": "markdown",
   "metadata": {},
   "source": [
    "Make a model trapezoid light curve."
   ]
  },
  {
   "cell_type": "code",
   "execution_count": null,
   "metadata": {},
   "outputs": [],
   "source": [
    "ioblk.trapezoid_model()"
   ]
  },
  {
   "cell_type": "markdown",
   "metadata": {},
   "source": [
    "Insert signal."
   ]
  },
  {
   "cell_type": "code",
   "execution_count": null,
   "metadata": {},
   "outputs": [],
   "source": [
    "data_series *= ioblk.modellc"
   ]
  },
  {
   "cell_type": "markdown",
   "metadata": {},
   "source": [
    "Some values need to be readjusted before fitting."
   ]
  },
  {
   "cell_type": "code",
   "execution_count": null,
   "metadata": {},
   "outputs": [],
   "source": [
    "new_signal_epoch = signal_epoch + 0.001\n",
    "new_signal_duration_hours = signal_duration_hours * 0.9\n",
    "new_signal_depth = signal_depth * 1.1\n",
    "fit_trial_n = 2\n",
    "error_scale = 1.0"
   ]
  },
  {
   "cell_type": "markdown",
   "metadata": {},
   "source": [
    "Perform the fitting."
   ]
  },
  {
   "cell_type": "code",
   "execution_count": null,
   "metadata": {},
   "outputs": [],
   "source": [
    "ioblk = TrapezoidFit.trapezoid_fit(\n",
    "    time_series, data_series, error_series,\n",
    "    signal_period, new_signal_epoch,\n",
    "    new_signal_duration_hours, new_signal_depth,\n",
    "    fit_trial_n=fit_trial_n, fit_region=fitregion,\n",
    "    error_scale=error_scale, sample_n=samplen, seed=seed)"
   ]
  },
  {
   "cell_type": "markdown",
   "metadata": {},
   "source": [
    "Print the planet model estimates."
   ]
  },
  {
   "cell_type": "code",
   "execution_count": null,
   "metadata": {},
   "outputs": [],
   "source": [
    "print(ioblk.planetests)"
   ]
  },
  {
   "cell_type": "markdown",
   "metadata": {},
   "source": [
    "Plot the fitting result."
   ]
  },
  {
   "cell_type": "code",
   "execution_count": null,
   "metadata": {},
   "outputs": [],
   "source": [
    "ioblk.plot_likehood()"
   ]
  },
  {
   "cell_type": "markdown",
   "metadata": {},
   "source": [
    "More plots."
   ]
  },
  {
   "cell_type": "code",
   "execution_count": null,
   "metadata": {},
   "outputs": [],
   "source": [
    "phased_series = phase_data(time_series, signal_period, signal_epoch)"
   ]
  },
  {
   "cell_type": "code",
   "execution_count": null,
   "metadata": {},
   "outputs": [],
   "source": [
    "plt.plot(phased_series, data_series, '.');"
   ]
  },
  {
   "cell_type": "code",
   "execution_count": null,
   "metadata": {},
   "outputs": [],
   "source": [
    "plt.plot(time_series, data_series, '.');"
   ]
  },
  {
   "cell_type": "markdown",
   "metadata": {},
   "source": [
    "## Encore: Other Ways to Generate Models\n",
    "\n",
    "This is the other unit test for alternative ways to general models without doing the fitting part."
   ]
  },
  {
   "cell_type": "code",
   "execution_count": null,
   "metadata": {},
   "outputs": [],
   "source": [
    "newioblk = TrapezoidFit.trapezoid_model_onemodel(\n",
    "    time_series, signal_period,\n",
    "    signal_epoch, signal_depth, signal_duration_hours,\n",
    "    signal_duration_hours * 0.1, samplen)"
   ]
  },
  {
   "cell_type": "code",
   "execution_count": null,
   "metadata": {},
   "outputs": [],
   "source": [
    "newioblk2 = newioblk.trapezoid_model_raw(\n",
    "    signal_epoch + 0.05, signal_depth * 1.5,\n",
    "    signal_duration_hours * 2.0,\n",
    "    signal_duration_hours * 2.0 * 0.2)"
   ]
  },
  {
   "cell_type": "code",
   "execution_count": null,
   "metadata": {},
   "outputs": [],
   "source": [
    "fig = plt.figure()\n",
    "ax = fig.subplots()\n",
    "ax.plot(phased_series, newioblk.modellc, '.b')\n",
    "ax.plot(phased_series, newioblk2.modellc, '.r')\n",
    "ax.set_xlim(-0.05, 0.05);"
   ]
  }
 ],
 "metadata": {
  "kernelspec": {
   "display_name": "Python 3",
   "language": "python",
   "name": "python3"
  },
  "language_info": {
   "codemirror_mode": {
    "name": "ipython",
    "version": 3
   },
   "file_extension": ".py",
   "mimetype": "text/x-python",
   "name": "python",
   "nbconvert_exporter": "python",
   "pygments_lexer": "ipython3",
   "version": "3.7.10"
  }
 },
 "nbformat": 4,
 "nbformat_minor": 4
}
